{
  "nbformat": 4,
  "nbformat_minor": 0,
  "metadata": {
    "colab": {
      "provenance": []
    },
    "kernelspec": {
      "name": "python3",
      "display_name": "Python 3"
    },
    "language_info": {
      "name": "python"
    }
  },
  "cells": [
    {
      "cell_type": "code",
      "execution_count": 1,
      "metadata": {
        "colab": {
          "base_uri": "https://localhost:8080/"
        },
        "id": "b4XQM_6XKHTb",
        "outputId": "db16743f-572c-4a5b-dfef-489d5111e073"
      },
      "outputs": [
        {
          "output_type": "stream",
          "name": "stdout",
          "text": [
            "Requirement already satisfied: pandas in /usr/local/lib/python3.10/dist-packages (1.5.3)\n",
            "Requirement already satisfied: python-dateutil>=2.8.1 in /usr/local/lib/python3.10/dist-packages (from pandas) (2.8.2)\n",
            "Requirement already satisfied: pytz>=2020.1 in /usr/local/lib/python3.10/dist-packages (from pandas) (2023.4)\n",
            "Requirement already satisfied: numpy>=1.21.0 in /usr/local/lib/python3.10/dist-packages (from pandas) (1.25.2)\n",
            "Requirement already satisfied: six>=1.5 in /usr/local/lib/python3.10/dist-packages (from python-dateutil>=2.8.1->pandas) (1.16.0)\n"
          ]
        }
      ],
      "source": [
        "pip install pandas"
      ]
    },
    {
      "cell_type": "code",
      "source": [
        "pip install matplotlib"
      ],
      "metadata": {
        "colab": {
          "base_uri": "https://localhost:8080/"
        },
        "id": "yJa6g4IkKKZ4",
        "outputId": "6fea8260-4119-4fb5-d042-5529aa3e48f3"
      },
      "execution_count": 2,
      "outputs": [
        {
          "output_type": "stream",
          "name": "stdout",
          "text": [
            "Requirement already satisfied: matplotlib in /usr/local/lib/python3.10/dist-packages (3.7.1)\n",
            "Requirement already satisfied: contourpy>=1.0.1 in /usr/local/lib/python3.10/dist-packages (from matplotlib) (1.2.0)\n",
            "Requirement already satisfied: cycler>=0.10 in /usr/local/lib/python3.10/dist-packages (from matplotlib) (0.12.1)\n",
            "Requirement already satisfied: fonttools>=4.22.0 in /usr/local/lib/python3.10/dist-packages (from matplotlib) (4.49.0)\n",
            "Requirement already satisfied: kiwisolver>=1.0.1 in /usr/local/lib/python3.10/dist-packages (from matplotlib) (1.4.5)\n",
            "Requirement already satisfied: numpy>=1.20 in /usr/local/lib/python3.10/dist-packages (from matplotlib) (1.25.2)\n",
            "Requirement already satisfied: packaging>=20.0 in /usr/local/lib/python3.10/dist-packages (from matplotlib) (23.2)\n",
            "Requirement already satisfied: pillow>=6.2.0 in /usr/local/lib/python3.10/dist-packages (from matplotlib) (9.4.0)\n",
            "Requirement already satisfied: pyparsing>=2.3.1 in /usr/local/lib/python3.10/dist-packages (from matplotlib) (3.1.2)\n",
            "Requirement already satisfied: python-dateutil>=2.7 in /usr/local/lib/python3.10/dist-packages (from matplotlib) (2.8.2)\n",
            "Requirement already satisfied: six>=1.5 in /usr/local/lib/python3.10/dist-packages (from python-dateutil>=2.7->matplotlib) (1.16.0)\n"
          ]
        }
      ]
    },
    {
      "cell_type": "code",
      "source": [
        "pip install seaborn"
      ],
      "metadata": {
        "colab": {
          "base_uri": "https://localhost:8080/"
        },
        "id": "Fsj8Dq8QKN9Q",
        "outputId": "146a3017-4a2f-4e93-8f5a-80e05ccc96f9"
      },
      "execution_count": 3,
      "outputs": [
        {
          "output_type": "stream",
          "name": "stdout",
          "text": [
            "Requirement already satisfied: seaborn in /usr/local/lib/python3.10/dist-packages (0.13.1)\n",
            "Requirement already satisfied: numpy!=1.24.0,>=1.20 in /usr/local/lib/python3.10/dist-packages (from seaborn) (1.25.2)\n",
            "Requirement already satisfied: pandas>=1.2 in /usr/local/lib/python3.10/dist-packages (from seaborn) (1.5.3)\n",
            "Requirement already satisfied: matplotlib!=3.6.1,>=3.4 in /usr/local/lib/python3.10/dist-packages (from seaborn) (3.7.1)\n",
            "Requirement already satisfied: contourpy>=1.0.1 in /usr/local/lib/python3.10/dist-packages (from matplotlib!=3.6.1,>=3.4->seaborn) (1.2.0)\n",
            "Requirement already satisfied: cycler>=0.10 in /usr/local/lib/python3.10/dist-packages (from matplotlib!=3.6.1,>=3.4->seaborn) (0.12.1)\n",
            "Requirement already satisfied: fonttools>=4.22.0 in /usr/local/lib/python3.10/dist-packages (from matplotlib!=3.6.1,>=3.4->seaborn) (4.49.0)\n",
            "Requirement already satisfied: kiwisolver>=1.0.1 in /usr/local/lib/python3.10/dist-packages (from matplotlib!=3.6.1,>=3.4->seaborn) (1.4.5)\n",
            "Requirement already satisfied: packaging>=20.0 in /usr/local/lib/python3.10/dist-packages (from matplotlib!=3.6.1,>=3.4->seaborn) (23.2)\n",
            "Requirement already satisfied: pillow>=6.2.0 in /usr/local/lib/python3.10/dist-packages (from matplotlib!=3.6.1,>=3.4->seaborn) (9.4.0)\n",
            "Requirement already satisfied: pyparsing>=2.3.1 in /usr/local/lib/python3.10/dist-packages (from matplotlib!=3.6.1,>=3.4->seaborn) (3.1.2)\n",
            "Requirement already satisfied: python-dateutil>=2.7 in /usr/local/lib/python3.10/dist-packages (from matplotlib!=3.6.1,>=3.4->seaborn) (2.8.2)\n",
            "Requirement already satisfied: pytz>=2020.1 in /usr/local/lib/python3.10/dist-packages (from pandas>=1.2->seaborn) (2023.4)\n",
            "Requirement already satisfied: six>=1.5 in /usr/local/lib/python3.10/dist-packages (from python-dateutil>=2.7->matplotlib!=3.6.1,>=3.4->seaborn) (1.16.0)\n"
          ]
        }
      ]
    },
    {
      "cell_type": "code",
      "source": [
        "pip install tensorflow"
      ],
      "metadata": {
        "colab": {
          "base_uri": "https://localhost:8080/"
        },
        "id": "TdwVUseRKRGu",
        "outputId": "982af014-5845-4744-d848-c1eb2af57e7d"
      },
      "execution_count": 4,
      "outputs": [
        {
          "output_type": "stream",
          "name": "stdout",
          "text": [
            "Requirement already satisfied: tensorflow in /usr/local/lib/python3.10/dist-packages (2.15.0)\n",
            "Requirement already satisfied: absl-py>=1.0.0 in /usr/local/lib/python3.10/dist-packages (from tensorflow) (1.4.0)\n",
            "Requirement already satisfied: astunparse>=1.6.0 in /usr/local/lib/python3.10/dist-packages (from tensorflow) (1.6.3)\n",
            "Requirement already satisfied: flatbuffers>=23.5.26 in /usr/local/lib/python3.10/dist-packages (from tensorflow) (24.3.6)\n",
            "Requirement already satisfied: gast!=0.5.0,!=0.5.1,!=0.5.2,>=0.2.1 in /usr/local/lib/python3.10/dist-packages (from tensorflow) (0.5.4)\n",
            "Requirement already satisfied: google-pasta>=0.1.1 in /usr/local/lib/python3.10/dist-packages (from tensorflow) (0.2.0)\n",
            "Requirement already satisfied: h5py>=2.9.0 in /usr/local/lib/python3.10/dist-packages (from tensorflow) (3.9.0)\n",
            "Requirement already satisfied: libclang>=13.0.0 in /usr/local/lib/python3.10/dist-packages (from tensorflow) (16.0.6)\n",
            "Requirement already satisfied: ml-dtypes~=0.2.0 in /usr/local/lib/python3.10/dist-packages (from tensorflow) (0.2.0)\n",
            "Requirement already satisfied: numpy<2.0.0,>=1.23.5 in /usr/local/lib/python3.10/dist-packages (from tensorflow) (1.25.2)\n",
            "Requirement already satisfied: opt-einsum>=2.3.2 in /usr/local/lib/python3.10/dist-packages (from tensorflow) (3.3.0)\n",
            "Requirement already satisfied: packaging in /usr/local/lib/python3.10/dist-packages (from tensorflow) (23.2)\n",
            "Requirement already satisfied: protobuf!=4.21.0,!=4.21.1,!=4.21.2,!=4.21.3,!=4.21.4,!=4.21.5,<5.0.0dev,>=3.20.3 in /usr/local/lib/python3.10/dist-packages (from tensorflow) (3.20.3)\n",
            "Requirement already satisfied: setuptools in /usr/local/lib/python3.10/dist-packages (from tensorflow) (67.7.2)\n",
            "Requirement already satisfied: six>=1.12.0 in /usr/local/lib/python3.10/dist-packages (from tensorflow) (1.16.0)\n",
            "Requirement already satisfied: termcolor>=1.1.0 in /usr/local/lib/python3.10/dist-packages (from tensorflow) (2.4.0)\n",
            "Requirement already satisfied: typing-extensions>=3.6.6 in /usr/local/lib/python3.10/dist-packages (from tensorflow) (4.10.0)\n",
            "Requirement already satisfied: wrapt<1.15,>=1.11.0 in /usr/local/lib/python3.10/dist-packages (from tensorflow) (1.14.1)\n",
            "Requirement already satisfied: tensorflow-io-gcs-filesystem>=0.23.1 in /usr/local/lib/python3.10/dist-packages (from tensorflow) (0.36.0)\n",
            "Requirement already satisfied: grpcio<2.0,>=1.24.3 in /usr/local/lib/python3.10/dist-packages (from tensorflow) (1.62.0)\n",
            "Requirement already satisfied: tensorboard<2.16,>=2.15 in /usr/local/lib/python3.10/dist-packages (from tensorflow) (2.15.2)\n",
            "Requirement already satisfied: tensorflow-estimator<2.16,>=2.15.0 in /usr/local/lib/python3.10/dist-packages (from tensorflow) (2.15.0)\n",
            "Requirement already satisfied: keras<2.16,>=2.15.0 in /usr/local/lib/python3.10/dist-packages (from tensorflow) (2.15.0)\n",
            "Requirement already satisfied: wheel<1.0,>=0.23.0 in /usr/local/lib/python3.10/dist-packages (from astunparse>=1.6.0->tensorflow) (0.42.0)\n",
            "Requirement already satisfied: google-auth<3,>=1.6.3 in /usr/local/lib/python3.10/dist-packages (from tensorboard<2.16,>=2.15->tensorflow) (2.27.0)\n",
            "Requirement already satisfied: google-auth-oauthlib<2,>=0.5 in /usr/local/lib/python3.10/dist-packages (from tensorboard<2.16,>=2.15->tensorflow) (1.2.0)\n",
            "Requirement already satisfied: markdown>=2.6.8 in /usr/local/lib/python3.10/dist-packages (from tensorboard<2.16,>=2.15->tensorflow) (3.5.2)\n",
            "Requirement already satisfied: requests<3,>=2.21.0 in /usr/local/lib/python3.10/dist-packages (from tensorboard<2.16,>=2.15->tensorflow) (2.31.0)\n",
            "Requirement already satisfied: tensorboard-data-server<0.8.0,>=0.7.0 in /usr/local/lib/python3.10/dist-packages (from tensorboard<2.16,>=2.15->tensorflow) (0.7.2)\n",
            "Requirement already satisfied: werkzeug>=1.0.1 in /usr/local/lib/python3.10/dist-packages (from tensorboard<2.16,>=2.15->tensorflow) (3.0.1)\n",
            "Requirement already satisfied: cachetools<6.0,>=2.0.0 in /usr/local/lib/python3.10/dist-packages (from google-auth<3,>=1.6.3->tensorboard<2.16,>=2.15->tensorflow) (5.3.3)\n",
            "Requirement already satisfied: pyasn1-modules>=0.2.1 in /usr/local/lib/python3.10/dist-packages (from google-auth<3,>=1.6.3->tensorboard<2.16,>=2.15->tensorflow) (0.3.0)\n",
            "Requirement already satisfied: rsa<5,>=3.1.4 in /usr/local/lib/python3.10/dist-packages (from google-auth<3,>=1.6.3->tensorboard<2.16,>=2.15->tensorflow) (4.9)\n",
            "Requirement already satisfied: requests-oauthlib>=0.7.0 in /usr/local/lib/python3.10/dist-packages (from google-auth-oauthlib<2,>=0.5->tensorboard<2.16,>=2.15->tensorflow) (1.3.1)\n",
            "Requirement already satisfied: charset-normalizer<4,>=2 in /usr/local/lib/python3.10/dist-packages (from requests<3,>=2.21.0->tensorboard<2.16,>=2.15->tensorflow) (3.3.2)\n",
            "Requirement already satisfied: idna<4,>=2.5 in /usr/local/lib/python3.10/dist-packages (from requests<3,>=2.21.0->tensorboard<2.16,>=2.15->tensorflow) (3.6)\n",
            "Requirement already satisfied: urllib3<3,>=1.21.1 in /usr/local/lib/python3.10/dist-packages (from requests<3,>=2.21.0->tensorboard<2.16,>=2.15->tensorflow) (2.0.7)\n",
            "Requirement already satisfied: certifi>=2017.4.17 in /usr/local/lib/python3.10/dist-packages (from requests<3,>=2.21.0->tensorboard<2.16,>=2.15->tensorflow) (2024.2.2)\n",
            "Requirement already satisfied: MarkupSafe>=2.1.1 in /usr/local/lib/python3.10/dist-packages (from werkzeug>=1.0.1->tensorboard<2.16,>=2.15->tensorflow) (2.1.5)\n",
            "Requirement already satisfied: pyasn1<0.6.0,>=0.4.6 in /usr/local/lib/python3.10/dist-packages (from pyasn1-modules>=0.2.1->google-auth<3,>=1.6.3->tensorboard<2.16,>=2.15->tensorflow) (0.5.1)\n",
            "Requirement already satisfied: oauthlib>=3.0.0 in /usr/local/lib/python3.10/dist-packages (from requests-oauthlib>=0.7.0->google-auth-oauthlib<2,>=0.5->tensorboard<2.16,>=2.15->tensorflow) (3.2.2)\n"
          ]
        }
      ]
    },
    {
      "cell_type": "code",
      "source": [
        "pip install keras"
      ],
      "metadata": {
        "colab": {
          "base_uri": "https://localhost:8080/"
        },
        "id": "uliD--tDKTh-",
        "outputId": "5b2325e6-cdf6-4fac-b814-fa4caa471f74"
      },
      "execution_count": 5,
      "outputs": [
        {
          "output_type": "stream",
          "name": "stdout",
          "text": [
            "Requirement already satisfied: keras in /usr/local/lib/python3.10/dist-packages (2.15.0)\n"
          ]
        }
      ]
    },
    {
      "cell_type": "code",
      "source": [
        "import numpy as np\n",
        "import pandas as pd\n",
        "import matplotlib.pyplot as plt\n",
        "import seaborn as sns\n",
        "import os.path\n",
        "from pathlib import Path\n",
        "from sklearn.model_selection import train_test_split\n",
        "import tensorflow as tf\n",
        "from sklearn.metrics import classification_report, confusion_matrix\n",
        "from keras.layers import Conv2D, MaxPooling2D, Flatten, Dense\n",
        "from keras.models import Sequential"
      ],
      "metadata": {
        "id": "i6eJ4TWXKWZK"
      },
      "execution_count": 6,
      "outputs": []
    },
    {
      "cell_type": "code",
      "source": [
        "import pandas as pd\n",
        "import os"
      ],
      "metadata": {
        "id": "T8R6N-qDKZhK"
      },
      "execution_count": 10,
      "outputs": []
    },
    {
      "cell_type": "code",
      "source": [
        "# Define the directory paths for real and fake images\n",
        "real_images_dir = \"/content/sample_data/data/Real\"\n",
        "fake_images_dir = \"/content/sample_data/data/Fake\""
      ],
      "metadata": {
        "id": "W0lJOdUAPJL7"
      },
      "execution_count": 11,
      "outputs": []
    },
    {
      "cell_type": "code",
      "source": [
        "# Gather file paths for real and fake images\n",
        "real_image_paths = [os.path.join(real_images_dir, filename) for filename in os.listdir(real_images_dir) if filename.endswith('.jpg')]\n",
        "fake_image_paths = [os.path.join(fake_images_dir, filename) for filename in os.listdir(fake_images_dir) if filename.endswith('.jpg')]"
      ],
      "metadata": {
        "id": "d4GFzG3uPrwT"
      },
      "execution_count": 12,
      "outputs": []
    },
    {
      "cell_type": "code",
      "source": [
        "# Create labels for real and fake images\n",
        "real_labels = ['real'] * len(real_image_paths)\n",
        "fake_labels = ['fake'] * len(fake_image_paths)"
      ],
      "metadata": {
        "id": "CFkdsGltPv5C"
      },
      "execution_count": 13,
      "outputs": []
    },
    {
      "cell_type": "code",
      "source": [
        "# Combine file paths and labels\n",
        "file_paths = real_image_paths + fake_image_paths\n",
        "labels = real_labels + fake_labels"
      ],
      "metadata": {
        "id": "fg9YjU-ePxwJ"
      },
      "execution_count": 14,
      "outputs": []
    },
    {
      "cell_type": "code",
      "source": [
        "# Create DataFrame\n",
        "image_df = pd.DataFrame({'Filepath': file_paths, 'Label': labels})"
      ],
      "metadata": {
        "id": "adPtjffKP0d-"
      },
      "execution_count": 15,
      "outputs": []
    },
    {
      "cell_type": "code",
      "source": [
        "# Shuffle the DataFrame if needed\n",
        "image_df = image_df.sample(frac=1).reset_index(drop=True)"
      ],
      "metadata": {
        "id": "zcrLos5tP3U-"
      },
      "execution_count": 16,
      "outputs": []
    },
    {
      "cell_type": "code",
      "source": [
        "# Display the DataFrame\n",
        "print(image_df.head())"
      ],
      "metadata": {
        "colab": {
          "base_uri": "https://localhost:8080/"
        },
        "id": "QBXMJIbWP69Z",
        "outputId": "fb89f486-0f85-44ea-a547-0d8f4740c318"
      },
      "execution_count": 17,
      "outputs": [
        {
          "output_type": "stream",
          "name": "stdout",
          "text": [
            "                                          Filepath Label\n",
            "0   /content/sample_data/data/Fake/mid_46_1111.jpg  fake\n",
            "1  /content/sample_data/data/Fake/mid_100_1110.jpg  fake\n",
            "2    /content/sample_data/data/Real/real_00007.jpg  real\n",
            "3    /content/sample_data/data/Real/real_00090.jpg  real\n",
            "4   /content/sample_data/data/Fake/mid_47_1110.jpg  fake\n"
          ]
        }
      ]
    },
    {
      "cell_type": "code",
      "source": [
        "# Split the data into training and testing sets\n",
        "train_df, test_df = train_test_split(image_df, train_size=0.7, shuffle=True, random_state=1)"
      ],
      "metadata": {
        "id": "azn7APyuP_hL"
      },
      "execution_count": 18,
      "outputs": []
    },
    {
      "cell_type": "code",
      "source": [
        "# Define image preprocessing functions\n",
        "def preprocess_image(filepath):\n",
        "    # Load and preprocess image\n",
        "    image = tf.keras.preprocessing.image.load_img(filepath, target_size=(256, 256))\n",
        "    image = tf.keras.preprocessing.image.img_to_array(image)\n",
        "    image = image / 255.0  # Normalize pixel values to [0, 1]\n",
        "    return image"
      ],
      "metadata": {
        "id": "yvv9hwlPQTfJ"
      },
      "execution_count": 19,
      "outputs": []
    },
    {
      "cell_type": "code",
      "source": [
        "# Create train and test datasets\n",
        "train_images = np.array([preprocess_image(filepath) for filepath in train_df['Filepath']])\n",
        "train_labels = np.array(train_df['Label'])\n",
        "test_images = np.array([preprocess_image(filepath) for filepath in test_df['Filepath']])\n",
        "test_labels = np.array(test_df['Label'])"
      ],
      "metadata": {
        "id": "EE9BYKdAQW26"
      },
      "execution_count": 20,
      "outputs": []
    },
    {
      "cell_type": "code",
      "source": [
        "# Define the MesoNet model\n",
        "model = Sequential([\n",
        "    Conv2D(8, kernel_size=(3, 3), activation='relu', input_shape=(256, 256, 3)),\n",
        "    MaxPooling2D(pool_size=(2, 2)),\n",
        "    Conv2D(8, kernel_size=(3, 3), activation='relu'),\n",
        "    MaxPooling2D(pool_size=(2, 2)),\n",
        "    Flatten(),\n",
        "    Dense(16, activation='relu'),\n",
        "    Dense(1, activation='sigmoid')\n",
        "])"
      ],
      "metadata": {
        "id": "iCqu_rK0QdEV"
      },
      "execution_count": 21,
      "outputs": []
    },
    {
      "cell_type": "code",
      "source": [
        "# Compile the model\n",
        "model.compile(optimizer='adam', loss='binary_crossentropy', metrics=['accuracy'])"
      ],
      "metadata": {
        "id": "HsiN_IXPQeS8"
      },
      "execution_count": 22,
      "outputs": []
    },
    {
      "cell_type": "code",
      "source": [
        "from sklearn.preprocessing import LabelEncoder\n",
        "\n",
        "label_encoder = LabelEncoder()\n",
        "train_labels_encoded = label_encoder.fit_transform(train_labels)"
      ],
      "metadata": {
        "id": "gmW5Cz6pRktv"
      },
      "execution_count": 27,
      "outputs": []
    },
    {
      "cell_type": "code",
      "source": [
        "print(train_images.dtype)\n",
        "print(train_labels_encoded.dtype)"
      ],
      "metadata": {
        "colab": {
          "base_uri": "https://localhost:8080/"
        },
        "id": "IpNRGd94RHDc",
        "outputId": "e0816f38-cbe7-4fd2-8f80-ef6e27f1efdb"
      },
      "execution_count": 29,
      "outputs": [
        {
          "output_type": "stream",
          "name": "stdout",
          "text": [
            "float32\n",
            "int64\n"
          ]
        }
      ]
    },
    {
      "cell_type": "code",
      "source": [
        "# Train the model\n",
        "history = model.fit(train_images, train_labels_encoded, epochs=30, validation_split=0.2)"
      ],
      "metadata": {
        "colab": {
          "base_uri": "https://localhost:8080/"
        },
        "id": "00X17X-MQnXf",
        "outputId": "9d9f323b-82e8-4e6c-f79e-700e34705a73"
      },
      "execution_count": 40,
      "outputs": [
        {
          "output_type": "stream",
          "name": "stdout",
          "text": [
            "Epoch 1/30\n",
            "9/9 [==============================] - 5s 581ms/step - loss: 0.5042 - accuracy: 0.8214 - val_loss: 0.6418 - val_accuracy: 0.6000\n",
            "Epoch 2/30\n",
            "9/9 [==============================] - 5s 510ms/step - loss: 0.4707 - accuracy: 0.8286 - val_loss: 0.6128 - val_accuracy: 0.7000\n",
            "Epoch 3/30\n",
            "9/9 [==============================] - 5s 584ms/step - loss: 0.4596 - accuracy: 0.8821 - val_loss: 0.6610 - val_accuracy: 0.6000\n",
            "Epoch 4/30\n",
            "9/9 [==============================] - 5s 509ms/step - loss: 0.4235 - accuracy: 0.8714 - val_loss: 0.6364 - val_accuracy: 0.6286\n",
            "Epoch 5/30\n",
            "9/9 [==============================] - 5s 573ms/step - loss: 0.4177 - accuracy: 0.8964 - val_loss: 0.6018 - val_accuracy: 0.7000\n",
            "Epoch 6/30\n",
            "9/9 [==============================] - 5s 517ms/step - loss: 0.4159 - accuracy: 0.9071 - val_loss: 0.6265 - val_accuracy: 0.6286\n",
            "Epoch 7/30\n",
            "9/9 [==============================] - 5s 523ms/step - loss: 0.3905 - accuracy: 0.9321 - val_loss: 0.6726 - val_accuracy: 0.5857\n",
            "Epoch 8/30\n",
            "9/9 [==============================] - 5s 572ms/step - loss: 0.3691 - accuracy: 0.9393 - val_loss: 0.7367 - val_accuracy: 0.6000\n",
            "Epoch 9/30\n",
            "9/9 [==============================] - 4s 498ms/step - loss: 0.3550 - accuracy: 0.9571 - val_loss: 0.8369 - val_accuracy: 0.5857\n",
            "Epoch 10/30\n",
            "9/9 [==============================] - 5s 576ms/step - loss: 0.3426 - accuracy: 0.9714 - val_loss: 0.8627 - val_accuracy: 0.6000\n",
            "Epoch 11/30\n",
            "9/9 [==============================] - 5s 510ms/step - loss: 0.3365 - accuracy: 0.9750 - val_loss: 0.8547 - val_accuracy: 0.6000\n",
            "Epoch 12/30\n",
            "9/9 [==============================] - 5s 529ms/step - loss: 0.3270 - accuracy: 0.9786 - val_loss: 0.9179 - val_accuracy: 0.5857\n",
            "Epoch 13/30\n",
            "9/9 [==============================] - 5s 523ms/step - loss: 0.3195 - accuracy: 0.9821 - val_loss: 0.8453 - val_accuracy: 0.6143\n",
            "Epoch 14/30\n",
            "9/9 [==============================] - 5s 529ms/step - loss: 0.3198 - accuracy: 0.9821 - val_loss: 0.7036 - val_accuracy: 0.6286\n",
            "Epoch 15/30\n",
            "9/9 [==============================] - 5s 577ms/step - loss: 0.3193 - accuracy: 0.9821 - val_loss: 0.7053 - val_accuracy: 0.6286\n",
            "Epoch 16/30\n",
            "9/9 [==============================] - 4s 500ms/step - loss: 0.3256 - accuracy: 0.9571 - val_loss: 0.5752 - val_accuracy: 0.6714\n",
            "Epoch 17/30\n",
            "9/9 [==============================] - 5s 576ms/step - loss: 0.3361 - accuracy: 0.9607 - val_loss: 0.8510 - val_accuracy: 0.5857\n",
            "Epoch 18/30\n",
            "9/9 [==============================] - 4s 499ms/step - loss: 0.3064 - accuracy: 0.9857 - val_loss: 1.0228 - val_accuracy: 0.5857\n",
            "Epoch 19/30\n",
            "9/9 [==============================] - 5s 512ms/step - loss: 0.2990 - accuracy: 0.9893 - val_loss: 1.0081 - val_accuracy: 0.6000\n",
            "Epoch 20/30\n",
            "9/9 [==============================] - 5s 567ms/step - loss: 0.2941 - accuracy: 0.9893 - val_loss: 1.0556 - val_accuracy: 0.6000\n",
            "Epoch 21/30\n",
            "9/9 [==============================] - 5s 510ms/step - loss: 0.2920 - accuracy: 0.9929 - val_loss: 1.0247 - val_accuracy: 0.5857\n",
            "Epoch 22/30\n",
            "9/9 [==============================] - 5s 602ms/step - loss: 0.2905 - accuracy: 0.9893 - val_loss: 0.9681 - val_accuracy: 0.5857\n",
            "Epoch 23/30\n",
            "9/9 [==============================] - 5s 514ms/step - loss: 0.2858 - accuracy: 0.9893 - val_loss: 0.8301 - val_accuracy: 0.6429\n",
            "Epoch 24/30\n",
            "9/9 [==============================] - 5s 524ms/step - loss: 0.2844 - accuracy: 0.9929 - val_loss: 1.1546 - val_accuracy: 0.5714\n",
            "Epoch 25/30\n",
            "9/9 [==============================] - 5s 513ms/step - loss: 0.2795 - accuracy: 0.9857 - val_loss: 1.0553 - val_accuracy: 0.5714\n",
            "Epoch 26/30\n",
            "9/9 [==============================] - 5s 522ms/step - loss: 0.2766 - accuracy: 0.9929 - val_loss: 1.0860 - val_accuracy: 0.5714\n",
            "Epoch 27/30\n",
            "9/9 [==============================] - 5s 581ms/step - loss: 0.2745 - accuracy: 0.9929 - val_loss: 0.8901 - val_accuracy: 0.6143\n",
            "Epoch 28/30\n",
            "9/9 [==============================] - 4s 500ms/step - loss: 0.2750 - accuracy: 0.9929 - val_loss: 1.2147 - val_accuracy: 0.5714\n",
            "Epoch 29/30\n",
            "9/9 [==============================] - 5s 571ms/step - loss: 0.2710 - accuracy: 0.9929 - val_loss: 0.8315 - val_accuracy: 0.6143\n",
            "Epoch 30/30\n",
            "9/9 [==============================] - 6s 633ms/step - loss: 0.2704 - accuracy: 0.9929 - val_loss: 1.3084 - val_accuracy: 0.5571\n"
          ]
        }
      ]
    },
    {
      "cell_type": "code",
      "source": [
        "# Encode test_labels if they are in the string format\n",
        "test_labels_encoded = label_encoder.transform(test_labels)"
      ],
      "metadata": {
        "id": "rFvJ-pVfSw5F"
      },
      "execution_count": 41,
      "outputs": []
    },
    {
      "cell_type": "code",
      "source": [
        "# Evaluate the model on the test set\n",
        "test_loss, test_accuracy = model.evaluate(test_images, test_labels_encoded)\n",
        "print(f\"Test Loss: {test_loss}\")\n",
        "print(f\"Test Accuracy: {test_accuracy}\")"
      ],
      "metadata": {
        "colab": {
          "base_uri": "https://localhost:8080/"
        },
        "id": "7_t0AeuYSMSN",
        "outputId": "31b2d68b-d063-492f-cf2f-b2c851c882b0"
      },
      "execution_count": 42,
      "outputs": [
        {
          "output_type": "stream",
          "name": "stdout",
          "text": [
            "5/5 [==============================] - 1s 158ms/step - loss: 1.3290 - accuracy: 0.5467\n",
            "Test Loss: 1.32901132106781\n",
            "Test Accuracy: 0.54666668176651\n"
          ]
        }
      ]
    },
    {
      "cell_type": "code",
      "source": [
        "# Make predictions on the test set\n",
        "predictions = model.predict(test_images)\n",
        "predictions = (predictions > 0.5).astype(int)"
      ],
      "metadata": {
        "colab": {
          "base_uri": "https://localhost:8080/"
        },
        "id": "uqP4_PbjTGju",
        "outputId": "dc59e886-288b-41bb-bf25-c17660393012"
      },
      "execution_count": 43,
      "outputs": [
        {
          "output_type": "stream",
          "name": "stdout",
          "text": [
            "5/5 [==============================] - 1s 158ms/step\n"
          ]
        }
      ]
    },
    {
      "cell_type": "code",
      "source": [
        "# Generate classification report and confusion matrix\n",
        "print(\"Classification Report:\")\n",
        "print(classification_report(test_labels_encoded, predictions))\n",
        "print(\"Confusion Matrix:\")\n",
        "print(confusion_matrix(test_labels_encoded, predictions))"
      ],
      "metadata": {
        "colab": {
          "base_uri": "https://localhost:8080/"
        },
        "id": "K4v6f2W_TJbP",
        "outputId": "fb7b1283-d299-469a-8484-ba314d75aa61"
      },
      "execution_count": 44,
      "outputs": [
        {
          "output_type": "stream",
          "name": "stdout",
          "text": [
            "Classification Report:\n",
            "              precision    recall  f1-score   support\n",
            "\n",
            "           0       0.87      0.16      0.28        79\n",
            "           1       0.51      0.97      0.67        71\n",
            "\n",
            "    accuracy                           0.55       150\n",
            "   macro avg       0.69      0.57      0.47       150\n",
            "weighted avg       0.70      0.55      0.46       150\n",
            "\n",
            "Confusion Matrix:\n",
            "[[13 66]\n",
            " [ 2 69]]\n"
          ]
        }
      ]
    }
  ]
}